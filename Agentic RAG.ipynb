{
 "cells": [
  {
   "cell_type": "code",
   "execution_count": 1,
   "id": "77df5c6d",
   "metadata": {},
   "outputs": [
    {
     "data": {
      "text/plain": [
       "True"
      ]
     },
     "execution_count": 1,
     "metadata": {},
     "output_type": "execute_result"
    }
   ],
   "source": [
    "from langchain_google_genai import ChatGoogleGenerativeAI,GoogleGenerativeAIEmbeddings\n",
    "from langchain_core.prompts import ChatPromptTemplate\n",
    "from langgraph.graph import StateGraph, MessagesState,START,END\n",
    "from langgraph.graph.message import add_messages\n",
    "from langgraph.prebuilt import create_react_agent\n",
    "from pydantic import BaseModel, Field\n",
    "from typing_extensions import Annotated, Literal,TypedDict, List\n",
    "from langchain_core.tools import tool\n",
    "\n",
    "from dotenv import load_dotenv\n",
    "import os\n",
    "load_dotenv()"
   ]
  },
  {
   "cell_type": "code",
   "execution_count": 2,
   "id": "327f8cac",
   "metadata": {},
   "outputs": [
    {
     "name": "stdout",
     "output_type": "stream",
     "text": [
      "Yes, absolutely! I'm ready to help.\n",
      "\n",
      "What can I assist you with today? Please tell me what you need.\n"
     ]
    }
   ],
   "source": [
    "try:\n",
    "    llm = ChatGoogleGenerativeAI(\n",
    "        model=\"gemini-2.5-flash\",\n",
    "        temperature=0.3)\n",
    "    response = llm.invoke(\"Are you ready to help me\")\n",
    "    print(response.content)\n",
    "except Exception as e:\n",
    "    print(f\"Error initializing LLM: {e}\")\n",
    "    "
   ]
  },
  {
   "cell_type": "markdown",
   "id": "740c4a1e",
   "metadata": {},
   "source": [
    "## Document Load"
   ]
  },
  {
   "cell_type": "code",
   "execution_count": 3,
   "id": "ff0d027e",
   "metadata": {},
   "outputs": [],
   "source": [
    "from langchain_text_splitters import RecursiveCharacterTextSplitter\n",
    "from langchain_chroma import Chroma\n",
    "from langchain_community.document_loaders import PyPDFLoader\n",
    "from langchain_text_splitters import CharacterTextSplitter, RecursiveCharacterTextSplitter"
   ]
  },
  {
   "cell_type": "code",
   "execution_count": 4,
   "id": "e65d4690",
   "metadata": {},
   "outputs": [],
   "source": [
    "file_path = './data/cover_letter.pdf'\n",
    "loader = PyPDFLoader(file_path,mode='single')\n",
    "docs=loader.load()\n",
    "spliter = CharacterTextSplitter(chunk_size=300, chunk_overlap=0,separator=\"\\n\")\n",
    "texts = spliter.split_documents(docs)"
   ]
  },
  {
   "cell_type": "code",
   "execution_count": 5,
   "id": "608e19a1",
   "metadata": {},
   "outputs": [],
   "source": [
    "# texts"
   ]
  },
  {
   "cell_type": "code",
   "execution_count": 6,
   "id": "829f4a86",
   "metadata": {},
   "outputs": [],
   "source": [
    "# docs=loader.load()"
   ]
  },
  {
   "cell_type": "code",
   "execution_count": 7,
   "id": "a76d6c59",
   "metadata": {},
   "outputs": [],
   "source": [
    "# docs"
   ]
  },
  {
   "cell_type": "code",
   "execution_count": 8,
   "id": "33d7e604",
   "metadata": {},
   "outputs": [],
   "source": [
    "# spliter = CharacterTextSplitter(chunk_size=300, chunk_overlap=0,separator=\"\\n\\n\")\n",
    "# texts = spliter.split_documents(docs)"
   ]
  },
  {
   "cell_type": "code",
   "execution_count": 9,
   "id": "59a6bef3",
   "metadata": {},
   "outputs": [],
   "source": [
    "# text_splitter = RecursiveCharacterTextSplitter(chunk_size=1000, chunk_overlap=0,is_separator_regex=True, separators=[\"\\n\\n\", \"\\n\", \" \", \"\"])"
   ]
  },
  {
   "cell_type": "code",
   "execution_count": 10,
   "id": "72eaee30",
   "metadata": {},
   "outputs": [],
   "source": [
    "# text_splitter.split_documents(docs)"
   ]
  },
  {
   "cell_type": "markdown",
   "id": "1426f488",
   "metadata": {},
   "source": [
    "## create vectorstore"
   ]
  },
  {
   "cell_type": "code",
   "execution_count": 11,
   "id": "e357a3bd",
   "metadata": {},
   "outputs": [],
   "source": [
    "# embedding \n",
    "embeddings = GoogleGenerativeAIEmbeddings(model='models/gemini-embedding-001')\n",
    "vectorstore = Chroma.from_documents(texts,embedding=embeddings,collection_name=\"sample_collection\",persist_directory=\"./data/chroma_db\")"
   ]
  },
  {
   "cell_type": "markdown",
   "id": "3ffbc197",
   "metadata": {},
   "source": [
    "## Create retrival tool"
   ]
  },
  {
   "cell_type": "code",
   "execution_count": 12,
   "id": "3b9cedcc",
   "metadata": {},
   "outputs": [],
   "source": [
    "from langchain.tools.retriever import create_retriever_tool\n",
    "retriver_tool = create_retriever_tool(\n",
    "    retriever=vectorstore.as_retriever(),\n",
    "    name=\"retriever_tool\",\n",
    "    description=\"\"\"This tool is used to retrieve relevant documents from the vector store based on the user's query.\n",
    "                   the informmation is about a person named 'Natdanai intraraksa' who is a software engineer and has worked at various companies including Invitrace and others.\n",
    "    \"\"\")"
   ]
  },
  {
   "cell_type": "code",
   "execution_count": 13,
   "id": "d2511d7d",
   "metadata": {},
   "outputs": [],
   "source": [
    "a = vectorstore.similarity_search(\"Which framework that I use to build the agent?\")"
   ]
  },
  {
   "cell_type": "code",
   "execution_count": 14,
   "id": "2a78eca2",
   "metadata": {},
   "outputs": [
    {
     "data": {
      "text/plain": [
       "[Document(id='56604853-a576-4683-a8c6-1565bbaf76a4', metadata={'total_pages': 2, 'producer': 'Skia/PDF m140 Google Docs Renderer', 'creator': 'PyPDF', 'creationdate': '', 'source': './data/cover_letter.pdf', 'title': 'Cover letter for apexanalytix'}, page_content='frameworks\\n \\nlike\\n \\nLangGraph\\n \\nand\\n \\nCrewAI\\n \\nto\\n \\nmanage\\n \\nautonomous\\n \\ntask\\n \\ndelegation\\n \\nand\\n \\nexecution\\n \\n \\n I  have  hands-on  experience  fine-tuning  LLMs  with  techniques  such  as  \\nLoRA,\\n \\nQLoRA,\\n \\nand\\n \\ninstruction\\n \\ntuning,\\n \\nand\\n \\nhave\\n \\nworked\\n \\nextensively\\n \\nwith\\n \\nLangChain,'),\n",
       " Document(id='4ebaa4b5-d978-461d-9e85-da86118fd5fe', metadata={'creator': 'PyPDF', 'source': './data/cover_letter.pdf', 'total_pages': 2, 'producer': 'Skia/PDF m140 Google Docs Renderer', 'title': 'Cover letter for apexanalytix', 'creationdate': ''}, page_content='frameworks\\n \\nlike\\n \\nLangGraph\\n \\nand\\n \\nCrewAI\\n \\nto\\n \\nmanage\\n \\nautonomous\\n \\ntask\\n \\ndelegation\\n \\nand\\n \\nexecution\\n \\n \\n I  have  hands-on  experience  fine-tuning  LLMs  with  techniques  such  as  \\nLoRA,\\n \\nQLoRA,\\n \\nand\\n \\ninstruction\\n \\ntuning,\\n \\nand\\n \\nhave\\n \\nworked\\n \\nextensively\\n \\nwith\\n \\nLangChain,'),\n",
       " Document(id='f0277d9a-1a1b-4074-bdc9-070a82054d31', metadata={'title': 'Cover letter for apexanalytix', 'creator': 'PyPDF', 'producer': 'Skia/PDF m140 Google Docs Renderer', 'source': './data/cover_letter.pdf', 'total_pages': 2, 'creationdate': ''}, page_content='frameworks\\n \\nlike\\n \\nLangGraph\\n \\nand\\n \\nCrewAI\\n \\nto\\n \\nmanage\\n \\nautonomous\\n \\ntask\\n \\ndelegation\\n \\nand\\n \\nexecution\\n \\n \\n I  have  hands-on  experience  fine-tuning  LLMs  with  techniques  such  as  \\nLoRA,\\n \\nQLoRA,\\n \\nand\\n \\ninstruction\\n \\ntuning,\\n \\nand\\n \\nhave\\n \\nworked\\n \\nextensively\\n \\nwith\\n \\nLangChain,'),\n",
       " Document(id='232bbacc-99d4-48f3-bab7-77c48a8113f5', metadata={'producer': 'Skia/PDF m140 Google Docs Renderer', 'source': './data/cover_letter.pdf', 'creationdate': '', 'total_pages': 2, 'title': 'Cover letter for apexanalytix', 'creator': 'PyPDF'}, page_content='AI).\\n \\nThese\\n \\nassistants\\n \\nused\\n \\nfunction-calling\\n \\ncapabilities\\n \\nand\\n \\nintegrated\\n \\nwith\\n \\nhospital\\n \\nAPIs\\n \\nto\\n \\nsupport\\n \\nappointment\\n \\nmanagement\\n \\nand\\n \\npatient\\n \\ninteraction\\n \\nworkflows.\\n \\nMy\\n \\nwork\\n \\non\\n \\nthese\\n \\nprojects\\n \\nincluded\\n \\nimplementing\\n \\nmulti-agent\\n \\nsystems\\n \\nusing')]"
      ]
     },
     "execution_count": 14,
     "metadata": {},
     "output_type": "execute_result"
    }
   ],
   "source": [
    "a"
   ]
  },
  {
   "cell_type": "code",
   "execution_count": 15,
   "id": "f6dc6d1b",
   "metadata": {},
   "outputs": [],
   "source": [
    "@tool\n",
    "def retrieve_documents(query: str):\n",
    "    \"\"\"Tools for retrive information that relevant to my information of the users\"\"\"\n",
    "    results = vectorstore.similarity_search(query)\n",
    "    return results\n",
    "\n",
    "@tool\n",
    "def multiply_numbers(a: int, b: int) -> int:\n",
    "    \"\"\"Multiply two numbers.\"\"\"\n",
    "    return a * b + 9\n",
    "\n",
    "tools = [retrieve_documents, multiply_numbers]\n",
    "\n",
    "def query_vectorstore(state:MessagesState):\n",
    "    prompt = ''' you are AI agent that answer the question by using tools'''\n",
    "    agent = create_react_agent(llm, tools=[retriver_tool], prompt=prompt)\n",
    "    result = agent.invoke({'messages':state['messages']})\n",
    "    return {'messages': result['messages']}\n",
    "\n",
    "def Agent(state:MessagesState):\n",
    "    llm_with_tools = llm.bind_tools([retriver_tool])\n",
    "    response = llm_with_tools.invoke(state['messages'])\n",
    "    return response\n",
    "\n",
    "    "
   ]
  },
  {
   "cell_type": "code",
   "execution_count": 16,
   "id": "124e6261",
   "metadata": {},
   "outputs": [],
   "source": [
    "state = MessagesState()\n",
    "state['messages'] = \"What does Natdanai do at Samutprakarn hospitals?\"\n",
    "\n",
    "r = Agent(state)\n",
    "r2 = query_vectorstore(state)"
   ]
  },
  {
   "cell_type": "code",
   "execution_count": 17,
   "id": "bc90d168",
   "metadata": {},
   "outputs": [
    {
     "data": {
      "text/plain": [
       "AIMessage(content='', additional_kwargs={'function_call': {'name': 'retriever_tool', 'arguments': '{\"query\": \"What does Natdanai do at Samutprakarn hospitals?\"}'}}, response_metadata={'prompt_feedback': {'block_reason': 0, 'safety_ratings': []}, 'finish_reason': 'STOP', 'model_name': 'gemini-2.5-flash', 'safety_ratings': []}, id='run--67eefe0f-46c0-4765-acd9-a4e4168c5ed7-0', tool_calls=[{'name': 'retriever_tool', 'args': {'query': 'What does Natdanai do at Samutprakarn hospitals?'}, 'id': '81124946-eead-4a2d-8db2-cb7e6f6d2825', 'type': 'tool_call'}], usage_metadata={'input_tokens': 110, 'output_tokens': 95, 'total_tokens': 205, 'input_token_details': {'cache_read': 0}, 'output_token_details': {'reasoning': 66}})"
      ]
     },
     "execution_count": 17,
     "metadata": {},
     "output_type": "execute_result"
    }
   ],
   "source": [
    "r"
   ]
  },
  {
   "cell_type": "code",
   "execution_count": 18,
   "id": "46c50e1e",
   "metadata": {},
   "outputs": [
    {
     "data": {
      "text/plain": [
       "[HumanMessage(content='What does Natdanai do at Samutprakarn hospitals?', additional_kwargs={}, response_metadata={}, id='d8627d43-3b0e-4bd1-878d-ec2d7eda491f'),\n",
       " AIMessage(content='', additional_kwargs={'function_call': {'name': 'retriever_tool', 'arguments': '{\"query\": \"What does Natdanai do at Samutprakarn hospitals?\"}'}}, response_metadata={'prompt_feedback': {'block_reason': 0, 'safety_ratings': []}, 'finish_reason': 'STOP', 'model_name': 'gemini-2.5-flash', 'safety_ratings': []}, id='run--862086ab-99b0-4de7-ab53-9f5ff34db955-0', tool_calls=[{'name': 'retriever_tool', 'args': {'query': 'What does Natdanai do at Samutprakarn hospitals?'}, 'id': 'f1e589b5-9851-4ecc-a21a-f79c69512884', 'type': 'tool_call'}], usage_metadata={'input_tokens': 121, 'output_tokens': 189, 'total_tokens': 310, 'input_token_details': {'cache_read': 0}, 'output_token_details': {'reasoning': 160}}),\n",
       " ToolMessage(content='retrieval-augmented\\n \\ngeneration\\n \\n(RAG)\\n \\nto\\n \\nprovide\\n \\nreal-time,\\n \\ncontextually\\n \\nrelevant\\n \\ncontent\\n \\nand\\n \\nimprove\\n \\naccuracy.\\n \\n Previously  at  iBotnoi,  I  collaborated  with  Phramongkutklao  and  \\nSamutprakarn\\n \\nhospitals\\n \\nto\\n \\ndevelop\\n \\nAI-powered\\n \\nvirtual\\n \\nassistants\\n \\n(Nurse\\n\\nretrieval-augmented\\n \\ngeneration\\n \\n(RAG)\\n \\nto\\n \\nprovide\\n \\nreal-time,\\n \\ncontextually\\n \\nrelevant\\n \\ncontent\\n \\nand\\n \\nimprove\\n \\naccuracy.\\n \\n Previously  at  iBotnoi,  I  collaborated  with  Phramongkutklao  and  \\nSamutprakarn\\n \\nhospitals\\n \\nto\\n \\ndevelop\\n \\nAI-powered\\n \\nvirtual\\n \\nassistants\\n \\n(Nurse\\n\\nretrieval-augmented\\n \\ngeneration\\n \\n(RAG)\\n \\nto\\n \\nprovide\\n \\nreal-time,\\n \\ncontextually\\n \\nrelevant\\n \\ncontent\\n \\nand\\n \\nimprove\\n \\naccuracy.\\n \\n Previously  at  iBotnoi,  I  collaborated  with  Phramongkutklao  and  \\nSamutprakarn\\n \\nhospitals\\n \\nto\\n \\ndevelop\\n \\nAI-powered\\n \\nvirtual\\n \\nassistants\\n \\n(Nurse\\n\\nI  would  welcome  the  opportunity  to  discuss  how  my  background  in  \\ndriving\\n \\nAI\\n \\nimplementation\\n \\nacross\\n \\ndiverse\\n \\nsectors\\n \\ncan\\n \\ncontribute\\n \\nto\\n \\nyour\\n \\nAI\\n \\nsolution.\\n \\nThank\\n \\nyou\\n \\nfor\\n \\nconsidering\\n \\nmy\\n \\napplication.\\n\\x0cSincerely,  \\nNatdanai  Intraraksa', name='retriever_tool', id='86f55cc4-c1d8-4819-8337-a0fd90156a2d', tool_call_id='f1e589b5-9851-4ecc-a21a-f79c69512884'),\n",
       " AIMessage(content='Natdanai collaborated with Samutprakarn hospitals to develop AI-powered virtual assistants (Nurse).', additional_kwargs={}, response_metadata={'prompt_feedback': {'block_reason': 0, 'safety_ratings': []}, 'finish_reason': 'STOP', 'model_name': 'gemini-2.5-flash', 'safety_ratings': []}, id='run--8d8a6f09-6e03-4b6d-a791-343fcd656e1b-0', usage_metadata={'input_tokens': 720, 'output_tokens': 87, 'total_tokens': 807, 'input_token_details': {'cache_read': 0}, 'output_token_details': {'reasoning': 66}})]"
      ]
     },
     "execution_count": 18,
     "metadata": {},
     "output_type": "execute_result"
    }
   ],
   "source": [
    "r2['messages']"
   ]
  },
  {
   "cell_type": "markdown",
   "id": "0c3b68f9",
   "metadata": {},
   "source": [
    "## Grade Document\n"
   ]
  },
  {
   "cell_type": "code",
   "execution_count": 19,
   "id": "1be6de15",
   "metadata": {},
   "outputs": [],
   "source": [
    "class GradeDocuments(BaseModel):\n",
    "    \"\"\"Grade documents using a binary score for relevance check.\"\"\"\n",
    "\n",
    "    binary_score: str = Field(\n",
    "        description=\"Relevance score: 'yes' if relevant, or 'no' if not relevant\"\n",
    "    )"
   ]
  },
  {
   "cell_type": "code",
   "execution_count": 20,
   "id": "cad89831",
   "metadata": {},
   "outputs": [
    {
     "data": {
      "text/plain": [
       "'generate_answer'"
      ]
     },
     "execution_count": 20,
     "metadata": {},
     "output_type": "execute_result"
    }
   ],
   "source": [
    "def grade_documents(state:MessagesState) -> Literal[\"generate_answer\", \"rewrite_question\"]:\n",
    "    prompt = ChatPromptTemplate.from_messages([\n",
    "        (\"system\", \"You are an expert at determining the relevance of documents to a given question.\"),\n",
    "        (\"user\", \"\"\"Given the question and the retrieved documents, determine if the documents are relevant to answer the question.\n",
    "                    Respond with 'yes' if relevant, or 'no' if not relevant.\n",
    "                    Question: {question}\n",
    "                    Documents: {documents}\"\"\")\n",
    "    ])\n",
    "    # Extract the question and documents from the state\n",
    "    question = state['messages'] if isinstance(state['messages'], str) else state['messages'][0].content\n",
    "    documents = state['messages'][-1].content if hasattr(state['messages'][-1], 'content') else str(state['messages'])\n",
    "\n",
    "    # Format the prompt first\n",
    "    formatted_prompt = prompt.format_messages(\n",
    "        question=question,\n",
    "        documents=documents\n",
    "    )\n",
    "    \n",
    "    llm_with_structured_output = llm.with_structured_output(GradeDocuments)\n",
    "    response = llm_with_structured_output.invoke(formatted_prompt)\n",
    "    if response.binary_score == \"yes\":\n",
    "        return \"generate_answer\"\n",
    "    else:\n",
    "        return \"rewrite_question\"\n",
    "    \n",
    "   \n",
    "\n",
    "grade_documents(r2)"
   ]
  },
  {
   "cell_type": "markdown",
   "id": "1704ba78",
   "metadata": {},
   "source": [
    "## Rewrite node\n"
   ]
  },
  {
   "cell_type": "code",
   "execution_count": 21,
   "id": "37ffc879",
   "metadata": {},
   "outputs": [],
   "source": [
    "\n",
    "def rewrite_question(state: MessagesState):\n",
    "    \"\"\"Rewrite the original user question.\"\"\"\n",
    "\n",
    "\n",
    "    REWRITE_PROMPT = (\n",
    "    \"Look at the input and try to reason about the underlying semantic intent / meaning.\\n\"\n",
    "    \"Here is the initial question:\"\n",
    "    \"\\n ------- \\n\"\n",
    "    \"{question}\"\n",
    "    \"\\n ------- \\n\"\n",
    "    \"Formulate an improved question:\"\n",
    "    )\n",
    "    messages = state[\"messages\"]\n",
    "    question = messages[0].content\n",
    "    prompt = REWRITE_PROMPT.format(question=question)\n",
    "    response = llm.invoke([{\"role\": \"user\", \"content\": prompt}])\n",
    "    return {\"messages\": [{\"role\": \"user\", \"content\": response.content}]}"
   ]
  },
  {
   "cell_type": "code",
   "execution_count": 22,
   "id": "7ed01670",
   "metadata": {},
   "outputs": [],
   "source": [
    "def generate_answer(state: MessagesState):\n",
    "    \"\"\"Generate an answer.\"\"\"\n",
    "\n",
    "    GENERATE_PROMPT = (\n",
    "    \"You are an assistant for question-answering tasks. \"\n",
    "    \"Use the following pieces of retrieved context to answer the question. \"\n",
    "    \"If you don't know the answer, just say that you don't know. \"\n",
    "    \"Use three sentences maximum and keep the answer concise.\\n\"\n",
    "    \"Question: {question} \\n\"\n",
    "    \"Context: {context}\"\n",
    "    )\n",
    "\n",
    "    question = state[\"messages\"][0].content\n",
    "    context = state[\"messages\"][-1].content\n",
    "    prompt = GENERATE_PROMPT.format(question=question, context=context)\n",
    "    response = llm.invoke([{\"role\": \"user\", \"content\": prompt}])\n",
    "    return {\"messages\": [response]}"
   ]
  },
  {
   "cell_type": "markdown",
   "id": "dd08241e",
   "metadata": {},
   "source": [
    "## Construct Graph"
   ]
  },
  {
   "cell_type": "code",
   "execution_count": null,
   "id": "6d5ac5db",
   "metadata": {},
   "outputs": [
    {
     "data": {
      "image/png": "[encoded data removed]",
      "text/plain": [
       "<langgraph.graph.state.CompiledStateGraph object at 0x000001534A46C690>"
      ]
     },
     "execution_count": 29,
     "metadata": {},
     "output_type": "execute_result"
    }
   ],
   "source": [
    "# Create the workflow\n",
    "\n",
    "workflow = StateGraph(MessagesState)\n",
    "workflow.add_node(\"agent\",query_vectorstore)\n",
    "# workflow.add_node(\"grade_documents\", grade_documents)\n",
    "workflow.add_node(\"rewrite_question\", rewrite_question)\n",
    "workflow.add_node(\"generate_answer\", generate_answer)\n",
    "workflow.add_edge(START,\"agent\")\n",
    "# workflow.add_edge(\"agent\", \"grade_documents\")\n",
    "workflow.add_conditional_edges('agent',\n",
    "        grade_documents, {\n",
    "        \"generate_answer\": \"generate_answer\",\n",
    "        \"rewrite_question\": \"rewrite_question\",})\n",
    "workflow.add_edge(\"rewrite_question\", \"agent\")\n",
    "workflow.add_edge(\"generate_answer\", END)\n",
    "workflow.compile()"
   ]
  },
  {
   "cell_type": "code",
   "execution_count": null,
   "id": "59757f08",
   "metadata": {},
   "outputs": [],
   "source": []
  }
 ],
 "metadata": {
  "kernelspec": {
   "display_name": "Agentic-RAG",
   "language": "python",
   "name": "python3"
  },
  "language_info": {
   "codemirror_mode": {
    "name": "ipython",
    "version": 3
   },
   "file_extension": ".py",
   "mimetype": "text/x-python",
   "name": "python",
   "nbconvert_exporter": "python",
   "pygments_lexer": "ipython3",
   "version": "3.13.5"
  }
 },
 "nbformat": 4,
 "nbformat_minor": 5
}
