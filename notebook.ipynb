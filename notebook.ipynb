{
 "cells": [
  {
   "cell_type": "code",
   "execution_count": 9,
   "id": "a3eb7427",
   "metadata": {},
   "outputs": [
    {
     "data": {
      "text/plain": [
       "True"
      ]
     },
     "execution_count": 9,
     "metadata": {},
     "output_type": "execute_result"
    }
   ],
   "source": [
    "from langchain_google_genai import ChatGoogleGenerativeAI\n",
    "from langchain_core.prompts import ChatPromptTemplate\n",
    "from langgraph.graph import StateGraph, MessageGraph,START,END\n",
    "from langgraph.graph.message import add_messages\n",
    "\n",
    "from pydantic import BaseModel, Field\n",
    "from typing_extensions import Annotated, Literal,TypedDict, List\n",
    "\n",
    "from dotenv import load_dotenv\n",
    "import os\n",
    "load_dotenv()"
   ]
  },
  {
   "cell_type": "code",
   "execution_count": 2,
   "id": "0889f4a0",
   "metadata": {},
   "outputs": [
    {
     "name": "stdout",
     "output_type": "stream",
     "text": [
      "Yes, I'm ready to help you.  Please tell me what you need.\n"
     ]
    }
   ],
   "source": [
    "try:\n",
    "    llm = ChatGoogleGenerativeAI(\n",
    "        model=\"gemini-1.5-flash\",\n",
    "        temperature=0.3)\n",
    "    response = llm.invoke(\"Are you ready to help me\")\n",
    "    print(response.content)\n",
    "except Exception as e:\n",
    "    print(f\"Error initializing LLM: {e}\")\n",
    "    "
   ]
  },
  {
   "cell_type": "code",
   "execution_count": 3,
   "id": "9d854f92",
   "metadata": {},
   "outputs": [],
   "source": [
    "class State(TypedDict):\n",
    "    messages : Annotated[List[str], add_messages]\n"
   ]
  },
  {
   "cell_type": "code",
   "execution_count": 6,
   "id": "8f37db79",
   "metadata": {},
   "outputs": [],
   "source": [
    "def chat(state: State):\n",
    "    system = \"\"\" You are an AI assistant for answer the question as much as possible. Your tone must be polite\"\"\"\n",
    "\n",
    "    prompt = ChatPromptTemplate.from_messages(\n",
    "        [\n",
    "            ('system' , system),\n",
    "            ('human', '{messages}')\n",
    "        ]\n",
    "    )\n",
    "    chain = prompt | llm\n",
    "    response = chain.invoke({'messages': state['messages']})\n",
    "    return {'messages':response}"
   ]
  },
  {
   "cell_type": "code",
   "execution_count": 7,
   "id": "4d8053da",
   "metadata": {},
   "outputs": [],
   "source": [
    "state = State()\n",
    "state['messages'] = 'what is hello in france'\n",
    "\n",
    "r = chat(state)"
   ]
  },
  {
   "cell_type": "code",
   "execution_count": 8,
   "id": "9f2b1086",
   "metadata": {},
   "outputs": [
    {
     "data": {
      "text/plain": [
       "{'messages': AIMessage(content='The French word for \"hello\" is **bonjour**.', additional_kwargs={}, response_metadata={'prompt_feedback': {'block_reason': 0, 'safety_ratings': []}, 'finish_reason': 'STOP', 'model_name': 'gemini-1.5-flash', 'safety_ratings': []}, id='run--04368fb0-f000-44f2-a1ca-52e923e845ee-0', usage_metadata={'input_tokens': 24, 'output_tokens': 12, 'total_tokens': 36, 'input_token_details': {'cache_read': 0}})}"
      ]
     },
     "execution_count": 8,
     "metadata": {},
     "output_type": "execute_result"
    }
   ],
   "source": [
    "r"
   ]
  },
  {
   "cell_type": "code",
   "execution_count": 10,
   "id": "9d9f2f8f",
   "metadata": {},
   "outputs": [],
   "source": [
    "workflow = StateGraph(State)\n",
    "workflow.add_node('chat',chat)\n",
    "workflow.add_edge(START, 'chat')\n",
    "workflow.add_edge('chat', END)\n",
    "graph = workflow.compile()"
   ]
  },
  {
   "cell_type": "code",
   "execution_count": 11,
   "id": "8aa43b69",
   "metadata": {},
   "outputs": [
    {
     "data": {
      "text/plain": [
       "{'messages': [HumanMessage(content='what is hello in Thailand', additional_kwargs={}, response_metadata={}, id='e0c8b019-8231-4134-89d5-95181124e691'),\n",
       "  AIMessage(content='สวัสดี (s̄wàsdī) is the most common way to say \"hello\" in Thailand.  It\\'s pronounced roughly as \"sà-wàt-dee\".', additional_kwargs={}, response_metadata={'prompt_feedback': {'block_reason': 0, 'safety_ratings': []}, 'finish_reason': 'STOP', 'model_name': 'gemini-1.5-flash', 'safety_ratings': []}, id='run--0f3e0d0a-fd26-4d83-a504-2f7fbcccccc4-0', usage_metadata={'input_tokens': 78, 'output_tokens': 42, 'total_tokens': 120, 'input_token_details': {'cache_read': 0}})]}"
      ]
     },
     "execution_count": 11,
     "metadata": {},
     "output_type": "execute_result"
    }
   ],
   "source": [
    "graph.invoke({'messages': 'what is hello in Thailand'})"
   ]
  },
  {
   "cell_type": "code",
   "execution_count": null,
   "id": "0bc6bffc",
   "metadata": {},
   "outputs": [],
   "source": []
  }
 ],
 "metadata": {
  "kernelspec": {
   "display_name": "ai-postinfo",
   "language": "python",
   "name": "python3"
  },
  "language_info": {
   "codemirror_mode": {
    "name": "ipython",
    "version": 3
   },
   "file_extension": ".py",
   "mimetype": "text/x-python",
   "name": "python",
   "nbconvert_exporter": "python",
   "pygments_lexer": "ipython3",
   "version": "3.13.2"
  }
 },
 "nbformat": 4,
 "nbformat_minor": 5
}
